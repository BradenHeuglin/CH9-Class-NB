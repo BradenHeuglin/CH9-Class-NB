{
 "cells": [
  {
   "cell_type": "markdown",
   "metadata": {},
   "source": [
    "# Ch9 Classes"
   ]
  },
  {
   "cell_type": "markdown",
   "metadata": {},
   "source": [
    "### Python is an object oriented programming language.\n",
    "- Almost everything in Python is an object, with its properties and methods (Functions).\n",
    "- A Class is like an object constructor, or a \"blueprint\" for creating objects."
   ]
  },
  {
   "cell_type": "code",
   "execution_count": 1,
   "metadata": {},
   "outputs": [
    {
     "name": "stdout",
     "output_type": "stream",
     "text": [
      "Angel\n",
      "Hill\n",
      "Employee full name: Angel Hill\n",
      "Employee full name: Peter White\n"
     ]
    }
   ],
   "source": [
    "class Employee(): # Starts with capital letter\n",
    "    # init is the constructor of the class\n",
    "    # 'self' is used to represent the instance of a class\n",
    "    def __init__(self, first, last, age, department): # method/function # Always start with 'self'\n",
    "        self.first=first.title()\n",
    "        self.last=last.title()\n",
    "        self.age=age\n",
    "        self.department=department.title()\n",
    "    \n",
    "    def fullname(self):\n",
    "        return f\"Employee full name: {self.first} {self.last}\"\n",
    "        \n",
    "emp_1=Employee(\"angel\", \"hill\",32, \"accounting\")\n",
    "emp_2=Employee(\"peter\",\"white\", 35, \"finance\")\n",
    "print(emp_1.first)\n",
    "print(emp_1.last)\n",
    "print(emp_1.fullname())\n",
    "print(emp_2.fullname())\n",
    "#print(f\"Employee full name: {emp_1.first} {emp_1.last}\")"
   ]
  },
  {
   "cell_type": "markdown",
   "metadata": {},
   "source": [
    "### Creating the Dog Class\n",
    "Each instance created from the Dog class will store a name and an age, and we’ll give each dog the ability to sit() and roll_over():"
   ]
  },
  {
   "cell_type": "code",
   "execution_count": 11,
   "metadata": {},
   "outputs": [],
   "source": [
    "class Dog():\n",
    "    def __init__(self, name, age):\n",
    "        self.name=name.title()\n",
    "        self.age=age\n",
    "    \n",
    "    def sit(self):\n",
    "        print(f\"{self.name} is now sitting\")\n",
    "        \n",
    "    def rollover(self):\n",
    "        print(f\"{self.name} is now rolling over\")"
   ]
  },
  {
   "cell_type": "code",
   "execution_count": 12,
   "metadata": {},
   "outputs": [
    {
     "name": "stdout",
     "output_type": "stream",
     "text": [
      "Shelby\n",
      "5\n",
      "Bradley\n",
      "2\n",
      "Shelby is now sitting\n"
     ]
    }
   ],
   "source": [
    "dog1=Dog(\"shelby\", 5)\n",
    "dog2=Dog(\"bradley\", 2)\n",
    "\n",
    "print(dog1.name)\n",
    "print(dog1.age)\n",
    "print(dog2.name)\n",
    "print(dog2.age)\n",
    "dog1.sit()"
   ]
  },
  {
   "cell_type": "markdown",
   "metadata": {},
   "source": [
    "#### Note:\n",
    "- By convention, capitalized names refer to classes in Python. \n",
    "- The parentheses in the class definition are empty because we’re creating this class from scratch.\n",
    "- All classes have a function called __init__(), which is always executed when the class is being initiated.\n",
    "- Use the __init__() function to assign values to object properties, or other operations that are necessary to do when the object is being created\n",
    "- Any variable prefixed with `self` is available to every method in the class, and we’ll also be able to access these variables through any instance created from the class.\n",
    "- The Dog class has two other methods defined: sit() and roll_over().Because these methods don’t need additional information like a name or age, we just define them to have one parameter, self."
   ]
  },
  {
   "cell_type": "markdown",
   "metadata": {},
   "source": [
    "### Restaurant: Make a class called Restaurant. The __init__() method for Restaurant should store two attributes: a restaurant_name and a cuisine_type.\n",
    "- Make a method called `describe_restaurant()` that prints name of teh restrurent and the cuisine type\n",
    "- and a method called open_restaurant() that prints a message indicating that the restaurant is open.\n",
    "- Make an instance called restaurant from your class. Print the two attributes individually, and then call both methods.\n"
   ]
  },
  {
   "cell_type": "code",
   "execution_count": 30,
   "metadata": {},
   "outputs": [
    {
     "name": "stdout",
     "output_type": "stream",
     "text": [
      "Red Lobster\n"
     ]
    }
   ],
   "source": [
    "class Restaurant():\n",
    "    \n",
    "    def __init__(self, name, cuisine):\n",
    "        self.name=name.title()\n",
    "        self.cuisine=cuisine.title()\n",
    "        \n",
    "    def describe_restaurant(self):\n",
    "        print(f\"{self.name} is a great place to get some {self.cuisine}\")\n",
    "        \n",
    "    def open_restaurant(self):\n",
    "        print(f\"{self.name} is now open for business!\")\n",
    "              \n",
    "rest1=Restaurant(\"red lobster\", \"seafood\")\n",
    "print(rest1.name)"
   ]
  },
  {
   "cell_type": "markdown",
   "metadata": {},
   "source": [
    "### - Create three different instances from the class, and call describe_restaurant() for each instance."
   ]
  },
  {
   "cell_type": "code",
   "execution_count": 31,
   "metadata": {},
   "outputs": [
    {
     "name": "stdout",
     "output_type": "stream",
     "text": [
      "Red Lobster is a great place to get some Seafood\n"
     ]
    }
   ],
   "source": [
    "rest1=Restaurant(\"red lobster\", \"seafood\")\n",
    "rest1.describe_restaurant()"
   ]
  },
  {
   "cell_type": "code",
   "execution_count": 34,
   "metadata": {},
   "outputs": [
    {
     "name": "stdout",
     "output_type": "stream",
     "text": [
      "Applebees is a great place to get some Burgers\n"
     ]
    }
   ],
   "source": [
    "rest2=Restaurant(\"applebees\", \"burgers\")\n",
    "rest2.describe_restaurant()"
   ]
  },
  {
   "cell_type": "code",
   "execution_count": 35,
   "metadata": {},
   "outputs": [
    {
     "name": "stdout",
     "output_type": "stream",
     "text": [
      "El Nopal is a great place to get some Mexican\n"
     ]
    }
   ],
   "source": [
    "rest3=Restaurant(\"el nopal\", \"mexican\")\n",
    "rest3.describe_restaurant()"
   ]
  },
  {
   "cell_type": "markdown",
   "metadata": {},
   "source": [
    "### Users: Make a class called User. Create attributes called first_name and last_name, username, location \n",
    "- Make a method called describe_user() that prints a summary of the user’s information. \n",
    "- Make another method called greet_user() that prints a personalized greeting to the user.\n",
    "- Create several instances representing different users, and call both methods for each user."
   ]
  },
  {
   "cell_type": "code",
   "execution_count": 2,
   "metadata": {},
   "outputs": [
    {
     "ename": "TypeError",
     "evalue": "describe_user() missing 3 required positional arguments: 'last', 'username', and 'location'",
     "output_type": "error",
     "traceback": [
      "\u001b[1;31m---------------------------------------------------------------------------\u001b[0m",
      "\u001b[1;31mTypeError\u001b[0m                                 Traceback (most recent call last)",
      "\u001b[1;32m<ipython-input-2-521b829f6655>\u001b[0m in \u001b[0;36m<module>\u001b[1;34m\u001b[0m\n\u001b[0;32m     13\u001b[0m \u001b[1;33m\u001b[0m\u001b[0m\n\u001b[0;32m     14\u001b[0m \u001b[0muser1\u001b[0m\u001b[1;33m=\u001b[0m\u001b[0mUser\u001b[0m\u001b[1;33m(\u001b[0m\u001b[1;34m\"Braden\"\u001b[0m\u001b[1;33m,\u001b[0m \u001b[1;34m\"Heuglin\"\u001b[0m\u001b[1;33m,\u001b[0m \u001b[1;34m\"bheuglin17\"\u001b[0m\u001b[1;33m,\u001b[0m \u001b[1;34m\"Kentucky\"\u001b[0m\u001b[1;33m)\u001b[0m\u001b[1;33m\u001b[0m\u001b[1;33m\u001b[0m\u001b[0m\n\u001b[1;32m---> 15\u001b[1;33m \u001b[0muser1\u001b[0m\u001b[1;33m.\u001b[0m\u001b[0mdescribe_user\u001b[0m\u001b[1;33m(\u001b[0m\u001b[1;33m)\u001b[0m\u001b[1;33m\u001b[0m\u001b[1;33m\u001b[0m\u001b[0m\n\u001b[0m",
      "\u001b[1;31mTypeError\u001b[0m: describe_user() missing 3 required positional arguments: 'last', 'username', and 'location'"
     ]
    }
   ],
   "source": [
    "class User():\n",
    "    def __init__(self, first, last, username, location):\n",
    "        self.first=first.title()\n",
    "        self.last=last.title()\n",
    "        self.username=username\n",
    "        self.location=location.title()\n",
    "        \n",
    "    def describe_user(first, last, username, location):\n",
    "        print(f\"Your first name is {self.first}, last name is {self.last}, username is {self.username}, and location is {self.location}\")\n",
    "        \n",
    "    def greet_user(self):\n",
    "        print(f\"Hello {self.first} {self.last}! Your username is {self.username} and you're from {self.location}?!\")\n",
    "              \n",
    "user1=User(\"Braden\", \"Heuglin\", \"bheuglin17\", \"Kentucky\")\n",
    "user1.describe_user()"
   ]
  },
  {
   "cell_type": "code",
   "execution_count": null,
   "metadata": {},
   "outputs": [],
   "source": []
  },
  {
   "cell_type": "markdown",
   "metadata": {},
   "source": [
    "## Setting a Default Value for an Attribute"
   ]
  },
  {
   "cell_type": "code",
   "execution_count": 33,
   "metadata": {},
   "outputs": [],
   "source": [
    "class Car():\n",
    "    def __init__(self,make,model,year):\n",
    "        self.make=make\n",
    "        self.model=model\n",
    "        self.year=year\n",
    "        self.odometer_reading=0\n",
    "    \n",
    "    def get_descriptive_name(self):\n",
    "        long_name= str(self.year)+ \" \" + (self.make) + \" \" + (self.model)\n",
    "        return long_name.title()\n",
    "    \n",
    "    def read_odometer(self):\n",
    "        print(f\"This car has {self.odometer_reading} miles on it\")\n",
    "        \n",
    "    def update_odometer(self,mileage):\n",
    "        self.odometer_reading+=mileage"
   ]
  },
  {
   "cell_type": "code",
   "execution_count": 34,
   "metadata": {},
   "outputs": [
    {
     "data": {
      "text/plain": [
       "'2010 Honda Accord'"
      ]
     },
     "execution_count": 34,
     "metadata": {},
     "output_type": "execute_result"
    }
   ],
   "source": [
    "my_car=Car(\"honda\", \"accord\", 2010)\n",
    "my_car.get_descriptive_name()"
   ]
  },
  {
   "cell_type": "code",
   "execution_count": 35,
   "metadata": {},
   "outputs": [
    {
     "name": "stdout",
     "output_type": "stream",
     "text": [
      "This car has 0 miles on it\n"
     ]
    }
   ],
   "source": [
    "my_car.read_odometer()"
   ]
  },
  {
   "cell_type": "code",
   "execution_count": 36,
   "metadata": {},
   "outputs": [
    {
     "name": "stdout",
     "output_type": "stream",
     "text": [
      "This car has 70 miles on it\n"
     ]
    }
   ],
   "source": [
    "my_car.update_odometer(70)\n",
    "my_car.read_odometer()"
   ]
  },
  {
   "cell_type": "code",
   "execution_count": 37,
   "metadata": {},
   "outputs": [
    {
     "name": "stdout",
     "output_type": "stream",
     "text": [
      "This car has 140 miles on it\n"
     ]
    }
   ],
   "source": [
    "my_car.update_odometer(70)\n",
    "my_car.read_odometer()"
   ]
  },
  {
   "cell_type": "markdown",
   "metadata": {},
   "source": [
    "#### Modifying an Attribute’s Value Directly"
   ]
  },
  {
   "cell_type": "code",
   "execution_count": null,
   "metadata": {},
   "outputs": [],
   "source": []
  },
  {
   "cell_type": "code",
   "execution_count": null,
   "metadata": {},
   "outputs": [],
   "source": []
  },
  {
   "cell_type": "markdown",
   "metadata": {},
   "source": [
    "### Modifying an Attribute’s Value Through a Method"
   ]
  },
  {
   "cell_type": "code",
   "execution_count": null,
   "metadata": {},
   "outputs": [],
   "source": []
  },
  {
   "cell_type": "code",
   "execution_count": null,
   "metadata": {},
   "outputs": [],
   "source": []
  },
  {
   "cell_type": "markdown",
   "metadata": {},
   "source": [
    "### Incrementing an Attribute’s Value Through a Method"
   ]
  },
  {
   "cell_type": "code",
   "execution_count": null,
   "metadata": {},
   "outputs": [],
   "source": []
  },
  {
   "cell_type": "code",
   "execution_count": null,
   "metadata": {},
   "outputs": [],
   "source": []
  },
  {
   "cell_type": "markdown",
   "metadata": {},
   "source": [
    "# Inheritance\n",
    "- You don’t always have to start from scratch when writing a class. If the class you’re writing is a specialized version of another class you wrote, you can use inheritance. \n",
    "- When one class inherits from another, it automatically takes on all the attributes and methods of the first class. The original class is called the `parent class`, and the new class is the `child class`. \n",
    "- The child class inherits every attribute and method from its parent class but is also free to define new attributes and methods of its own."
   ]
  },
  {
   "cell_type": "markdown",
   "metadata": {},
   "source": [
    "### Parent Class"
   ]
  },
  {
   "cell_type": "code",
   "execution_count": 1,
   "metadata": {},
   "outputs": [],
   "source": [
    "class Car():\n",
    "    def __init__(self,make,model,year):\n",
    "        self.make=make\n",
    "        self.model=model\n",
    "        self.year=year\n",
    "        self.odometer_reading=0\n",
    "    \n",
    "    def get_descriptive_name(self):\n",
    "        long_name= str(self.year)+ \" \" + (self.make) + \" \" + (self.model)\n",
    "        return long_name.title()\n",
    "    \n",
    "    def read_odometer(self):\n",
    "        print(f\"This car has {self.odometer_reading} miles on it\")\n",
    "        \n",
    "    def update_odometer(self,mileage):\n",
    "        self.odometer_reading+=mileage"
   ]
  },
  {
   "cell_type": "markdown",
   "metadata": {},
   "source": [
    "### Child Class"
   ]
  },
  {
   "cell_type": "code",
   "execution_count": 3,
   "metadata": {},
   "outputs": [],
   "source": [
    "class ElectricCar(Car):\n",
    "    def __init__(self,make,model,year):\n",
    "        super().__it__(make,model,year)  # Inherits the parent class attributes"
   ]
  },
  {
   "cell_type": "code",
   "execution_count": 6,
   "metadata": {},
   "outputs": [
    {
     "ename": "AttributeError",
     "evalue": "'super' object has no attribute '__it__'",
     "output_type": "error",
     "traceback": [
      "\u001b[1;31m---------------------------------------------------------------------------\u001b[0m",
      "\u001b[1;31mAttributeError\u001b[0m                            Traceback (most recent call last)",
      "\u001b[1;32m<ipython-input-6-e5c8ab2cde50>\u001b[0m in \u001b[0;36m<module>\u001b[1;34m\u001b[0m\n\u001b[1;32m----> 1\u001b[1;33m \u001b[0mMy_Honda\u001b[0m\u001b[1;33m=\u001b[0m\u001b[0mElectricCar\u001b[0m\u001b[1;33m(\u001b[0m\u001b[1;34m\"Honda\"\u001b[0m\u001b[1;33m,\u001b[0m\u001b[1;34m\"Accord\"\u001b[0m\u001b[1;33m,\u001b[0m\u001b[1;36m2010\u001b[0m\u001b[1;33m)\u001b[0m\u001b[1;33m\u001b[0m\u001b[1;33m\u001b[0m\u001b[0m\n\u001b[0m\u001b[0;32m      2\u001b[0m \u001b[0mprint\u001b[0m\u001b[1;33m(\u001b[0m\u001b[0mMy_Honda\u001b[0m\u001b[1;33m.\u001b[0m\u001b[0mget_descriptive_name\u001b[0m\u001b[1;33m(\u001b[0m\u001b[1;33m)\u001b[0m\u001b[1;33m)\u001b[0m\u001b[1;33m\u001b[0m\u001b[1;33m\u001b[0m\u001b[0m\n",
      "\u001b[1;32m<ipython-input-3-8df6fff75707>\u001b[0m in \u001b[0;36m__init__\u001b[1;34m(self, make, model, year)\u001b[0m\n\u001b[0;32m      1\u001b[0m \u001b[1;32mclass\u001b[0m \u001b[0mElectricCar\u001b[0m\u001b[1;33m(\u001b[0m\u001b[0mCar\u001b[0m\u001b[1;33m)\u001b[0m\u001b[1;33m:\u001b[0m\u001b[1;33m\u001b[0m\u001b[1;33m\u001b[0m\u001b[0m\n\u001b[0;32m      2\u001b[0m     \u001b[1;32mdef\u001b[0m \u001b[0m__init__\u001b[0m\u001b[1;33m(\u001b[0m\u001b[0mself\u001b[0m\u001b[1;33m,\u001b[0m\u001b[0mmake\u001b[0m\u001b[1;33m,\u001b[0m\u001b[0mmodel\u001b[0m\u001b[1;33m,\u001b[0m\u001b[0myear\u001b[0m\u001b[1;33m)\u001b[0m\u001b[1;33m:\u001b[0m\u001b[1;33m\u001b[0m\u001b[1;33m\u001b[0m\u001b[0m\n\u001b[1;32m----> 3\u001b[1;33m         \u001b[0msuper\u001b[0m\u001b[1;33m(\u001b[0m\u001b[1;33m)\u001b[0m\u001b[1;33m.\u001b[0m\u001b[0m__it__\u001b[0m\u001b[1;33m(\u001b[0m\u001b[0mmake\u001b[0m\u001b[1;33m,\u001b[0m\u001b[0mmodel\u001b[0m\u001b[1;33m,\u001b[0m\u001b[0myear\u001b[0m\u001b[1;33m)\u001b[0m  \u001b[1;31m# Inherits the parent class attributes\u001b[0m\u001b[1;33m\u001b[0m\u001b[1;33m\u001b[0m\u001b[0m\n\u001b[0m",
      "\u001b[1;31mAttributeError\u001b[0m: 'super' object has no attribute '__it__'"
     ]
    }
   ],
   "source": [
    "My_Honda=ElectricCar(\"Honda\",\"Accord\",2010)\n",
    "print(My_Honda.get_descriptive_name())"
   ]
  },
  {
   "cell_type": "markdown",
   "metadata": {},
   "source": [
    "### Practice: Create a class named Person, with firstname and lastname properties, and a printname method:"
   ]
  },
  {
   "cell_type": "code",
   "execution_count": 22,
   "metadata": {},
   "outputs": [],
   "source": [
    "class Person():\n",
    "    def __init__(self,first,last):\n",
    "        self.first=first.title()\n",
    "        self.last=last.title()\n",
    "        \n",
    "    def printname(self):\n",
    "        print(f'Full name: {self.first} {self.last}')"
   ]
  },
  {
   "cell_type": "code",
   "execution_count": 25,
   "metadata": {},
   "outputs": [
    {
     "name": "stdout",
     "output_type": "stream",
     "text": [
      "Full name: Braden Heuglin\n"
     ]
    }
   ],
   "source": [
    "my_name=Person(\"Braden\",\"Heuglin\")\n",
    "my_name.printname()"
   ]
  },
  {
   "cell_type": "code",
   "execution_count": 26,
   "metadata": {},
   "outputs": [
    {
     "name": "stdout",
     "output_type": "stream",
     "text": [
      "Full name: Braden Heuglin\n"
     ]
    }
   ],
   "source": [
    "person1=Person(\"Braden\",\"Heuglin\")\n",
    "person1.printname()"
   ]
  },
  {
   "cell_type": "markdown",
   "metadata": {},
   "source": [
    "### Create child classes called Student using Inheritance contains the first and last name and the graduation year \n",
    "- Add a method called `welcome` that prints the student graduation year\n",
    "- Test the student method for two students"
   ]
  },
  {
   "cell_type": "code",
   "execution_count": 27,
   "metadata": {},
   "outputs": [],
   "source": [
    "class Student(Person):\n",
    "    def __init__(self,first,last,year):\n",
    "        super().__init__(first,last)\n",
    "        self.year=year\n",
    "        \n",
    "    def welcome(self):\n",
    "        print(f'Welcome {self.first} {self.last} to the class of {self.year}')"
   ]
  },
  {
   "cell_type": "code",
   "execution_count": 28,
   "metadata": {},
   "outputs": [
    {
     "name": "stdout",
     "output_type": "stream",
     "text": [
      "Welcome Braden Heuglin to the class of 2017\n"
     ]
    }
   ],
   "source": [
    "student1=Student(\"Braden\",\"Heuglin\",2017)\n",
    "student1.welcome()"
   ]
  },
  {
   "cell_type": "code",
   "execution_count": 29,
   "metadata": {},
   "outputs": [
    {
     "name": "stdout",
     "output_type": "stream",
     "text": [
      "Welcome Braden Heuglin to the class of 2021\n"
     ]
    }
   ],
   "source": [
    "student2=Student(\"Braden\",\"Heuglin\",2021)\n",
    "student2.welcome()"
   ]
  },
  {
   "cell_type": "markdown",
   "metadata": {},
   "source": [
    "# Create a rectangle and square class and create methods for calculating the area and perimeter"
   ]
  },
  {
   "cell_type": "code",
   "execution_count": 47,
   "metadata": {},
   "outputs": [],
   "source": [
    "class Rectangle():\n",
    "    def __init__(self,length,width):\n",
    "        self.length=length\n",
    "        self.width=width\n",
    "        \n",
    "    def area_rectangle(self):\n",
    "        self.area=self.length*self.width\n",
    "        print(f'The area of the rectangle is: {self.area}')\n",
    "        \n",
    "    def peri_rectangle(self):\n",
    "        self.peri=(self.length*2)+(self.width*2)\n",
    "        print(f'The perimeter of this rectangle is: {self.peri}')        "
   ]
  },
  {
   "cell_type": "code",
   "execution_count": 48,
   "metadata": {},
   "outputs": [
    {
     "name": "stdout",
     "output_type": "stream",
     "text": [
      "The area of the rectangle is: 8\n",
      "The perimeter of this rectangle is: 12\n"
     ]
    }
   ],
   "source": [
    "solution1=Rectangle(2,4)\n",
    "solution1.area_rectangle()\n",
    "solution1.peri_rectangle()"
   ]
  },
  {
   "cell_type": "code",
   "execution_count": 49,
   "metadata": {},
   "outputs": [],
   "source": [
    "class Square():\n",
    "    def __init__(self,length):\n",
    "        self.length=length\n",
    "        \n",
    "    def area_square(self):\n",
    "        self.area=self.length**2\n",
    "        print(f'The area of the rectangle is: {self.area}')\n",
    "        \n",
    "    def peri_square(self):\n",
    "        self.peri=self.length*4\n",
    "        print(f'The perimeter of this rectangle is: {self.peri}')      "
   ]
  },
  {
   "cell_type": "code",
   "execution_count": 50,
   "metadata": {},
   "outputs": [
    {
     "name": "stdout",
     "output_type": "stream",
     "text": [
      "The area of the rectangle is: 16\n"
     ]
    }
   ],
   "source": [
    "square1=Square(4)\n",
    "square1.area_square()"
   ]
  },
  {
   "cell_type": "code",
   "execution_count": 51,
   "metadata": {},
   "outputs": [
    {
     "name": "stdout",
     "output_type": "stream",
     "text": [
      "The perimeter of this rectangle is: 16\n"
     ]
    }
   ],
   "source": [
    "square1.peri_square()"
   ]
  },
  {
   "cell_type": "markdown",
   "metadata": {},
   "source": [
    "## Use inheritence to create the squre class from parent class rectangle"
   ]
  },
  {
   "cell_type": "code",
   "execution_count": 52,
   "metadata": {},
   "outputs": [],
   "source": [
    "class Square(Rectangle):\n",
    "    def __init__(self,length):\n",
    "        super().__init__(length,length)"
   ]
  },
  {
   "cell_type": "code",
   "execution_count": 53,
   "metadata": {},
   "outputs": [
    {
     "name": "stdout",
     "output_type": "stream",
     "text": [
      "The area of the rectangle is: 4\n"
     ]
    }
   ],
   "source": [
    "square2=Square(2)\n",
    "square2.area_rectangle()"
   ]
  },
  {
   "cell_type": "markdown",
   "metadata": {},
   "source": [
    "## Create a simple calculator using classes"
   ]
  },
  {
   "cell_type": "code",
   "execution_count": 5,
   "metadata": {},
   "outputs": [
    {
     "name": "stdout",
     "output_type": "stream",
     "text": [
      "Choose from the following menu: \n",
      "1. Addition\n",
      "2. Subtraction\n",
      "3. Multiplication\n",
      "4. Division\n",
      "5. Exit\n",
      "Enter your choice (1-5)1\n",
      "Enter the first number2\n",
      "Enter the second number2\n",
      "Addition = 4\n",
      "Choose from the following menu: \n",
      "1. Addition\n",
      "2. Subtraction\n",
      "3. Multiplication\n",
      "4. Division\n",
      "5. Exit\n",
      "Enter your choice (1-5)2\n",
      "Enter the first number2\n",
      "Enter the second number2\n",
      "Subtraction = 0\n",
      "Choose from the following menu: \n",
      "1. Addition\n",
      "2. Subtraction\n",
      "3. Multiplication\n",
      "4. Division\n",
      "5. Exit\n",
      "Enter your choice (1-5)3\n",
      "Enter the first number2\n",
      "Enter the second number2\n",
      "Multiplication = 4\n",
      "Choose from the following menu: \n",
      "1. Addition\n",
      "2. Subtraction\n",
      "3. Multiplication\n",
      "4. Division\n",
      "5. Exit\n",
      "Enter your choice (1-5)4\n",
      "Enter the first number2\n",
      "Enter the second number2\n",
      "Division = 1.0\n",
      "Choose from the following menu: \n",
      "1. Addition\n",
      "2. Subtraction\n",
      "3. Multiplication\n",
      "4. Division\n",
      "5. Exit\n",
      "Enter your choice (1-5)5\n"
     ]
    }
   ],
   "source": [
    "class calc():\n",
    "    def __init__(self,input1,input2):\n",
    "        self.input1=input1\n",
    "        self.input2=input2\n",
    "    \n",
    "    def addition(num1,num2):\n",
    "        print(f\"Addition = {num1+num2}\")\n",
    "        \n",
    "    def subtraction(num1,num2):\n",
    "        print(f\"Subtraction = {num1-num2}\")\n",
    "        \n",
    "    def multiplication(num1,num2):\n",
    "        print(f\"Multiplication = {num1*num2}\")\n",
    "        \n",
    "    def division(num1,num2):\n",
    "        print(f\"Division = {num1/num2}\")\n",
    "        \n",
    "while True:\n",
    "    print(\"Choose from the following menu: \")\n",
    "    print(\"1. Addition\")\n",
    "    print(\"2. Subtraction\")\n",
    "    print(\"3. Multiplication\")\n",
    "    print(\"4. Division\")\n",
    "    print(\"5. Exit\")\n",
    "    \n",
    "    choice=int(input(\"Enter your choice (1-5)\"))\n",
    "    \n",
    "    if choice==1:\n",
    "        num1=int(input(\"Enter the first number\"))\n",
    "        num2=int(input(\"Enter the second number\"))\n",
    "        calc.addition(num1,num2)\n",
    "    elif choice==2:\n",
    "        num1=int(input(\"Enter the first number\"))\n",
    "        num2=int(input(\"Enter the second number\"))\n",
    "        calc.subtraction(num1,num2)\n",
    "    elif choice==3:\n",
    "        num1=int(input(\"Enter the first number\"))\n",
    "        num2=int(input(\"Enter the second number\"))\n",
    "        calc.multiplication(num1,num2)\n",
    "    elif choice==4:\n",
    "        num1=int(input(\"Enter the first number\"))\n",
    "        num2=int(input(\"Enter the second number\"))\n",
    "        if num2==0:\n",
    "            print(\"Infinity\")\n",
    "        else:\n",
    "            calc.division(num1,num2)\n",
    "    elif choice==5:\n",
    "        break\n",
    "    else:\n",
    "        print(\"Your choice is not in the calculator\")    "
   ]
  },
  {
   "cell_type": "markdown",
   "metadata": {},
   "source": [
    "## ATM machine "
   ]
  },
  {
   "cell_type": "code",
   "execution_count": 22,
   "metadata": {},
   "outputs": [],
   "source": [
    "class ATM():\n",
    "    def __init__(self):\n",
    "        self.balance=0\n",
    "        print(\"Hello, welcome to the ATM machine!\")\n",
    "    \n",
    "    def deposit(self):\n",
    "        amount=float(input(\"Enter the amount you wish to deposit\"))\n",
    "        self.balance+=amount\n",
    "        print(\"You deposited: \", amount)\n",
    "        \n",
    "    def withdrawl(self):\n",
    "        amount=float(input(\"Enter the amount you wish to withdraw\"))\n",
    "        if self.balance>=amount:\n",
    "            self.balance-=amount\n",
    "            print(\"You have withdrawn: \", amount)\n",
    "        else:\n",
    "            print(\"Insufficient balance\")\n",
    "        \n",
    "    def display(self):\n",
    "        print(\"The available balance is: \", self.balance)"
   ]
  },
  {
   "cell_type": "code",
   "execution_count": 14,
   "metadata": {},
   "outputs": [
    {
     "name": "stdout",
     "output_type": "stream",
     "text": [
      "Hello, welcome to the ATM machine!\n",
      "Enter the amount you wish to deposit500\n",
      "Your balance is now:  500.0\n"
     ]
    }
   ],
   "source": [
    "my_account=ATM()\n",
    "my_account.deposit()"
   ]
  },
  {
   "cell_type": "code",
   "execution_count": 15,
   "metadata": {},
   "outputs": [
    {
     "name": "stdout",
     "output_type": "stream",
     "text": [
      "The available balance is:  500.0\n"
     ]
    }
   ],
   "source": [
    "my_account.display()"
   ]
  },
  {
   "cell_type": "code",
   "execution_count": 19,
   "metadata": {},
   "outputs": [
    {
     "name": "stdout",
     "output_type": "stream",
     "text": [
      "Enter the amount you wish to deposit1000\n",
      "Your balance is now:  1000.0\n"
     ]
    }
   ],
   "source": [
    "my_account.deposit()"
   ]
  },
  {
   "cell_type": "code",
   "execution_count": 18,
   "metadata": {},
   "outputs": [
    {
     "name": "stdout",
     "output_type": "stream",
     "text": [
      "The available balance is:  1500.0\n"
     ]
    }
   ],
   "source": [
    "my_account.display()"
   ]
  },
  {
   "cell_type": "code",
   "execution_count": 23,
   "metadata": {},
   "outputs": [
    {
     "name": "stdout",
     "output_type": "stream",
     "text": [
      "Enter the amount you wish to withdraw500\n",
      "You have withdrawn:  500.0\n"
     ]
    }
   ],
   "source": [
    "my_account.withdrawl()"
   ]
  },
  {
   "cell_type": "code",
   "execution_count": 24,
   "metadata": {},
   "outputs": [
    {
     "name": "stdout",
     "output_type": "stream",
     "text": [
      "The available balance is:  2000.0\n"
     ]
    }
   ],
   "source": [
    "my_account.display()"
   ]
  }
 ],
 "metadata": {
  "kernelspec": {
   "display_name": "Python 3",
   "language": "python",
   "name": "python3"
  },
  "language_info": {
   "codemirror_mode": {
    "name": "ipython",
    "version": 3
   },
   "file_extension": ".py",
   "mimetype": "text/x-python",
   "name": "python",
   "nbconvert_exporter": "python",
   "pygments_lexer": "ipython3",
   "version": "3.8.3"
  }
 },
 "nbformat": 4,
 "nbformat_minor": 5
}
